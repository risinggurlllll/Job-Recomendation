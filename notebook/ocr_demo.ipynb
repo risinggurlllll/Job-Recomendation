{
 "cells": [
  {
   "cell_type": "code",
   "execution_count": 1,
   "metadata": {},
   "outputs": [
    {
     "name": "stdout",
     "output_type": "stream",
     "text": [
      "Requirement already satisfied: ocrmypdf in c:\\users\\shubhi shrotriya\\anacondaaaaaaaaa\\envs\\envname\\lib\\site-packages (14.4.0)\n",
      "Requirement already satisfied: Pillow>=8.2.0 in c:\\users\\shubhi shrotriya\\anacondaaaaaaaaa\\envs\\envname\\lib\\site-packages (from ocrmypdf) (10.3.0)\n",
      "Requirement already satisfied: deprecation>=2.1.0 in c:\\users\\shubhi shrotriya\\anacondaaaaaaaaa\\envs\\envname\\lib\\site-packages (from ocrmypdf) (2.1.0)\n",
      "Requirement already satisfied: img2pdf>=0.3.0 in c:\\users\\shubhi shrotriya\\anacondaaaaaaaaa\\envs\\envname\\lib\\site-packages (from ocrmypdf) (0.5.1)\n",
      "Requirement already satisfied: packaging>=20 in c:\\users\\shubhi shrotriya\\anacondaaaaaaaaa\\envs\\envname\\lib\\site-packages (from ocrmypdf) (24.0)\n",
      "Requirement already satisfied: pdfminer.six>=20201018 in c:\\users\\shubhi shrotriya\\anacondaaaaaaaaa\\envs\\envname\\lib\\site-packages (from ocrmypdf) (20221105)\n",
      "Requirement already satisfied: pikepdf>=5.0.1 in c:\\users\\shubhi shrotriya\\anacondaaaaaaaaa\\envs\\envname\\lib\\site-packages (from ocrmypdf) (8.15.1)\n",
      "Requirement already satisfied: pluggy>=0.13.0 in c:\\users\\shubhi shrotriya\\anacondaaaaaaaaa\\envs\\envname\\lib\\site-packages (from ocrmypdf) (1.5.0)\n",
      "Requirement already satisfied: reportlab>=3.5.66 in c:\\users\\shubhi shrotriya\\anacondaaaaaaaaa\\envs\\envname\\lib\\site-packages (from ocrmypdf) (4.2.0)\n",
      "Requirement already satisfied: rich>=13 in c:\\users\\shubhi shrotriya\\anacondaaaaaaaaa\\envs\\envname\\lib\\site-packages (from ocrmypdf) (13.7.1)\n",
      "Requirement already satisfied: tqdm>=4 in c:\\users\\shubhi shrotriya\\anacondaaaaaaaaa\\envs\\envname\\lib\\site-packages (from ocrmypdf) (4.66.2)\n",
      "Requirement already satisfied: typing-extensions>=4 in c:\\users\\shubhi shrotriya\\anacondaaaaaaaaa\\envs\\envname\\lib\\site-packages (from ocrmypdf) (4.11.0)\n",
      "Requirement already satisfied: importlib-resources>=5 in c:\\users\\shubhi shrotriya\\anacondaaaaaaaaa\\envs\\envname\\lib\\site-packages (from ocrmypdf) (6.4.0)\n",
      "Requirement already satisfied: zipp>=3.1.0 in c:\\users\\shubhi shrotriya\\anacondaaaaaaaaa\\envs\\envname\\lib\\site-packages (from importlib-resources>=5->ocrmypdf) (3.17.0)\n",
      "Requirement already satisfied: charset-normalizer>=2.0.0 in c:\\users\\shubhi shrotriya\\anacondaaaaaaaaa\\envs\\envname\\lib\\site-packages (from pdfminer.six>=20201018->ocrmypdf) (3.3.2)\n",
      "Requirement already satisfied: cryptography>=36.0.0 in c:\\users\\shubhi shrotriya\\anacondaaaaaaaaa\\envs\\envname\\lib\\site-packages (from pdfminer.six>=20201018->ocrmypdf) (42.0.5)\n",
      "Requirement already satisfied: Deprecated in c:\\users\\shubhi shrotriya\\anacondaaaaaaaaa\\envs\\envname\\lib\\site-packages (from pikepdf>=5.0.1->ocrmypdf) (1.2.14)\n",
      "Requirement already satisfied: lxml>=4.8 in c:\\users\\shubhi shrotriya\\anacondaaaaaaaaa\\envs\\envname\\lib\\site-packages (from pikepdf>=5.0.1->ocrmypdf) (5.2.1)\n",
      "Requirement already satisfied: chardet in c:\\users\\shubhi shrotriya\\anacondaaaaaaaaa\\envs\\envname\\lib\\site-packages (from reportlab>=3.5.66->ocrmypdf) (5.2.0)\n",
      "Requirement already satisfied: markdown-it-py>=2.2.0 in c:\\users\\shubhi shrotriya\\anacondaaaaaaaaa\\envs\\envname\\lib\\site-packages (from rich>=13->ocrmypdf) (3.0.0)\n",
      "Requirement already satisfied: pygments<3.0.0,>=2.13.0 in c:\\users\\shubhi shrotriya\\anacondaaaaaaaaa\\envs\\envname\\lib\\site-packages (from rich>=13->ocrmypdf) (2.17.2)\n",
      "Requirement already satisfied: colorama in c:\\users\\shubhi shrotriya\\anacondaaaaaaaaa\\envs\\envname\\lib\\site-packages (from tqdm>=4->ocrmypdf) (0.4.6)\n",
      "Requirement already satisfied: cffi>=1.12 in c:\\users\\shubhi shrotriya\\anacondaaaaaaaaa\\envs\\envname\\lib\\site-packages (from cryptography>=36.0.0->pdfminer.six>=20201018->ocrmypdf) (1.16.0)\n",
      "Requirement already satisfied: mdurl~=0.1 in c:\\users\\shubhi shrotriya\\anacondaaaaaaaaa\\envs\\envname\\lib\\site-packages (from markdown-it-py>=2.2.0->rich>=13->ocrmypdf) (0.1.2)\n",
      "Requirement already satisfied: wrapt<2,>=1.10 in c:\\users\\shubhi shrotriya\\anacondaaaaaaaaa\\envs\\envname\\lib\\site-packages (from Deprecated->pikepdf>=5.0.1->ocrmypdf) (1.16.0)\n",
      "Requirement already satisfied: pycparser in c:\\users\\shubhi shrotriya\\anacondaaaaaaaaa\\envs\\envname\\lib\\site-packages (from cffi>=1.12->cryptography>=36.0.0->pdfminer.six>=20201018->ocrmypdf) (2.22)\n",
      "Note: you may need to restart the kernel to use updated packages.\n"
     ]
    }
   ],
   "source": [
    "pip install ocrmypdf "
   ]
  },
  {
   "cell_type": "code",
   "execution_count": 2,
   "metadata": {},
   "outputs": [
    {
     "name": "stdout",
     "output_type": "stream",
     "text": [
      "Requirement already satisfied: pdfplumber in c:\\users\\shubhi shrotriya\\anacondaaaaaaaaa\\envs\\envname\\lib\\site-packages (0.8.0)\n",
      "Requirement already satisfied: pdfminer.six==20221105 in c:\\users\\shubhi shrotriya\\anacondaaaaaaaaa\\envs\\envname\\lib\\site-packages (from pdfplumber) (20221105)\n",
      "Requirement already satisfied: Pillow>=9.1 in c:\\users\\shubhi shrotriya\\anacondaaaaaaaaa\\envs\\envname\\lib\\site-packages (from pdfplumber) (10.3.0)\n",
      "Requirement already satisfied: Wand>=0.6.10 in c:\\users\\shubhi shrotriya\\anacondaaaaaaaaa\\envs\\envname\\lib\\site-packages (from pdfplumber) (0.6.13)\n",
      "Requirement already satisfied: charset-normalizer>=2.0.0 in c:\\users\\shubhi shrotriya\\anacondaaaaaaaaa\\envs\\envname\\lib\\site-packages (from pdfminer.six==20221105->pdfplumber) (3.3.2)\n",
      "Requirement already satisfied: cryptography>=36.0.0 in c:\\users\\shubhi shrotriya\\anacondaaaaaaaaa\\envs\\envname\\lib\\site-packages (from pdfminer.six==20221105->pdfplumber) (42.0.5)\n",
      "Requirement already satisfied: cffi>=1.12 in c:\\users\\shubhi shrotriya\\anacondaaaaaaaaa\\envs\\envname\\lib\\site-packages (from cryptography>=36.0.0->pdfminer.six==20221105->pdfplumber) (1.16.0)\n",
      "Requirement already satisfied: pycparser in c:\\users\\shubhi shrotriya\\anacondaaaaaaaaa\\envs\\envname\\lib\\site-packages (from cffi>=1.12->cryptography>=36.0.0->pdfminer.six==20221105->pdfplumber) (2.22)\n",
      "Note: you may need to restart the kernel to use updated packages.\n"
     ]
    }
   ],
   "source": [
    "pip install pdfplumber "
   ]
  },
  {
   "cell_type": "code",
   "execution_count": 3,
   "metadata": {},
   "outputs": [],
   "source": [
    "import os\n",
    "\n",
    "import requests\n",
    "import pdfplumber"
   ]
  },
  {
   "cell_type": "code",
   "execution_count": 4,
   "metadata": {},
   "outputs": [
    {
     "data": {
      "text/plain": [
       "'shubhi_shrotriya_resume_Deloitte.pdf'"
      ]
     },
     "execution_count": 4,
     "metadata": {},
     "output_type": "execute_result"
    }
   ],
   "source": [
    "invoice_pdf = 'shubhi_shrotriya_resume_Deloitte.pdf'\n",
    "invoice_pdf"
   ]
  },
  {
   "cell_type": "code",
   "execution_count": 5,
   "metadata": {},
   "outputs": [
    {
     "name": "stdout",
     "output_type": "stream",
     "text": [
      "shubhishrotriya09@gmail.comem22mtech14003@iith.ac.in\n",
      "Shubhi Shrotriya\n",
      "9068998298\n",
      "Academic Details\n",
      "Year Degree Institute CGPA/Marks(%)\n",
      "2024 M.Tech Techno-Entrepreneurship IIT Hyderabad 9.04\n",
      "2021 B.Tech Electronics & Communication Engineering ZHCET,AMU 8.21\n",
      "2017 XII (AMU) SSSG,AMU 87.6%\n",
      "2014 X (CBSE) OLF 89.3%\n",
      "Positions of Responsibility\n",
      "LinkedIn Page Manager: Curated engaging and informative departmental posts and blogs. (2022-23)\n",
      "Team Lead: Led team to participate and secure second runner up in National Event Createch'2020 organized by (2020-21)\n",
      "Lnt company.\n",
      "Team Lead: Led a 12-student team in ideating, designing, and fabricating a hybrid tri-cycle for National Event (2018-19)\n",
      "Efficycle organized by SAE-NIS, eventually winning the 'Futuristic Efficycle Award'2018.\n",
      "Thesis\n",
      "Stage 1- Conducting market research, business hypothesis, product research, and financial modeling for an \"AI- (Aug'23-\n",
      "driven platform specializing in job-specific mock interviews and resume fitness scores.\" Ongoing)\n",
      "Skills\n",
      "Technical Skills: Python, SQL, Excel, Tableau, User Experience (UX) & Prototyping using Figma, Product Development\n",
      "Lifecycle Assesment, A/B Testing & Experimentation\n",
      "Managerial Skills: Market Research, Strategic thinking, Critical Analysis, Problem-solving and decision-making\n",
      "Relevant Courses\n",
      "Programming & Mathematical Courses: Video Content Analysis, Fraud Analytics Using Predictive and Social Network\n",
      "Techniques, Data Structures & Algorithms, Linear Algebra, Probability, Statistics, Calculus\n",
      "Entrepreneurship and Management Courses: Strategic Management, Operational Entrepreneurship, Finance and\n",
      "Accounting, Introduction to Marketing, Innovation Management, Ecoonomics for Technocrats, Game Theory for Startups,\n",
      "Marketing for New Ventures\n",
      "Projects\n",
      "Implemented a data-driven tool for financial news analysis, leveraging NLP embeddings and LLMs for (Jul'23-\n",
      "information retrieval and insights using Langchain Aug'23)\n",
      "Cricket Data Analytics Project Using Web Scraping, Python, Pandas and Power BI (Jun'23-Jul'23)\n",
      "Conducted Industrial and Environmental analysis for Indian Semiconductor Industry (Feb'23- March'23)\n",
      "Implemented circular trade detection, Trust Rank using Pregel Framework, spectral clustering, and cost- (Jan'23-\n",
      "sensitive logistic regression for a given dataset Apr'23)\n",
      "Conducted a Literature Review of \"Deep Reinforcement Learning for Solving AGV Routing Problem\" paper (Jan'23- April'23)\n",
      "Literature Review on Deepfakes and Generative Adversarial Networks: Focused on \"Neural Emotion Director: (Aug'22-\n",
      "Speech-preserving semantic control of facial expressions in 'in-the-wild' videos,\" published in CVPR'2022 Dec'22)\n",
      "Extracurricular\n",
      "Collaborated in a joint pitch event competition, LEAD PITCH, with Japanese students to develop a scalable business (2023)\n",
      "plan presentation for a technical concept.\n",
      "One of the finalist for ProdX'23, a product management case study organized by FCC, IITH (2023)\n",
      "Volunteered for THE FOOD CONCLAVE-2023' event hosted by the Government of Telangana (2023)\n",
      "Summer Internship\n",
      "Founder's Office Intern at Dao Studio: (Aug'23-\n",
      "Align technical vision with business objectives in a blockchain-based AI startup, translating high-level concepts Oct'23)\n",
      "into actionable engineering tasks and enhancing technical documentation.\n",
      "Shape AI strategy via market analysis, user requirement definition, and precise technical documentation for\n",
      "product development.\n",
      "Research Internship at IIT Hyderabad: Under the guidance of Dr. Nakul Parmeswar, (May'23-\n",
      "Explored Indian micromobility's challenges, opportunities, key players, and relevance in evolving mobility. Jul'23)\n",
      "Developed a comprehensive case study and instructional note for YULU startup, involving rigorous market\n",
      "research, precise data collection, and strategic formulation, currently in discussions with YULU for collaborative\n",
      "publication of the strategic case study.\n"
     ]
    }
   ],
   "source": [
    "with pdfplumber.open(invoice_pdf) as pdf:\n",
    "     text=\"\"\n",
    "     pages = pdf.pages\n",
    "     for page in pages:\n",
    "         text += page.extract_text(x_tolerance=2)\n",
    "         print(text)"
   ]
  },
  {
   "cell_type": "code",
   "execution_count": 6,
   "metadata": {},
   "outputs": [
    {
     "name": "stdout",
     "output_type": "stream",
     "text": [
      "shubhishrotriya09@gmail.comem22mtech14003@iith.ac.in\n",
      "Shubhi Shrotriya\n",
      "9068998298\n",
      "Academic Details\n",
      "Year Degree Institute CGPA/Marks(%)\n",
      "2024 M.Tech Techno-Entrepreneurship IIT Hyderabad 9.04\n",
      "2021 B.Tech Electronics & Communication Engineering ZHCET,AMU 8.21\n",
      "2017 XII (AMU) SSSG,AMU 87.6%\n",
      "2014 X (CBSE) OLF 89.3%\n",
      "Positions of Responsibility\n",
      "LinkedIn Page Manager: Curated engaging and informative departmental posts and blogs. (2022-23)\n",
      "Team Lead: Led team to participate and secure second runner up in National Event Createch'2020 organized by (2020-21)\n",
      "Lnt company.\n",
      "Team Lead: Led a 12-student team in ideating, designing, and fabricating a hybrid tri-cycle for National Event (2018-19)\n",
      "Efficycle organized by SAE-NIS, eventually winning the 'Futuristic Efficycle Award'2018.\n",
      "Thesis\n",
      "Stage 1- Conducting market research, business hypothesis, product research, and financial modeling for an \"AI- (Aug'23-\n",
      "driven platform specializing in job-specific mock interviews and resume fitness scores.\" Ongoing)\n",
      "Skills\n",
      "Technical Skills: Python, SQL, Excel, Tableau, User Experience (UX) & Prototyping using Figma, Product Development\n",
      "Lifecycle Assesment, A/B Testing & Experimentation\n",
      "Managerial Skills: Market Research, Strategic thinking, Critical Analysis, Problem-solving and decision-making\n",
      "Relevant Courses\n",
      "Programming & Mathematical Courses: Video Content Analysis, Fraud Analytics Using Predictive and Social Network\n",
      "Techniques, Data Structures & Algorithms, Linear Algebra, Probability, Statistics, Calculus\n",
      "Entrepreneurship and Management Courses: Strategic Management, Operational Entrepreneurship, Finance and\n",
      "Accounting, Introduction to Marketing, Innovation Management, Ecoonomics for Technocrats, Game Theory for Startups,\n",
      "Marketing for New Ventures\n",
      "Projects\n",
      "Implemented a data-driven tool for financial news analysis, leveraging NLP embeddings and LLMs for (Jul'23-\n",
      "information retrieval and insights using Langchain Aug'23)\n",
      "Cricket Data Analytics Project Using Web Scraping, Python, Pandas and Power BI (Jun'23-Jul'23)\n",
      "Conducted Industrial and Environmental analysis for Indian Semiconductor Industry (Feb'23- March'23)\n",
      "Implemented circular trade detection, Trust Rank using Pregel Framework, spectral clustering, and cost- (Jan'23-\n",
      "sensitive logistic regression for a given dataset Apr'23)\n",
      "Conducted a Literature Review of \"Deep Reinforcement Learning for Solving AGV Routing Problem\" paper (Jan'23- April'23)\n",
      "Literature Review on Deepfakes and Generative Adversarial Networks: Focused on \"Neural Emotion Director: (Aug'22-\n",
      "Speech-preserving semantic control of facial expressions in 'in-the-wild' videos,\" published in CVPR'2022 Dec'22)\n",
      "Extracurricular\n",
      "Collaborated in a joint pitch event competition, LEAD PITCH, with Japanese students to develop a scalable business (2023)\n",
      "plan presentation for a technical concept.\n",
      "One of the finalist for ProdX'23, a product management case study organized by FCC, IITH (2023)\n",
      "Volunteered for THE FOOD CONCLAVE-2023' event hosted by the Government of Telangana (2023)\n",
      "Summer Internship\n",
      "Founder's Office Intern at Dao Studio: (Aug'23-\n",
      "Align technical vision with business objectives in a blockchain-based AI startup, translating high-level concepts Oct'23)\n",
      "into actionable engineering tasks and enhancing technical documentation.\n",
      "Shape AI strategy via market analysis, user requirement definition, and precise technical documentation for\n",
      "product development.\n",
      "Research Internship at IIT Hyderabad: Under the guidance of Dr. Nakul Parmeswar, (May'23-\n",
      "Explored Indian micromobility's challenges, opportunities, key players, and relevance in evolving mobility. Jul'23)\n",
      "Developed a comprehensive case study and instructional note for YULU startup, involving rigorous market\n",
      "research, precise data collection, and strategic formulation, currently in discussions with YULU for collaborative\n",
      "publication of the strategic case study.shubhishrotriya09@gmail.comem22mtech14003@iith.ac.in\n",
      "Shubhi Shrotriya\n",
      "9068998298\n",
      "Academic Details\n",
      "Year Degree Institute CGPA/Marks(%)\n",
      "2024 M.Tech Techno-Entrepreneurship IIT Hyderabad 9.04\n",
      "2021 B.Tech Electronics & Communication Engineering ZHCET,AMU 8.21\n",
      "2017 XII (AMU) SSSG,AMU 87.6%\n",
      "2014 X (CBSE) OLF 89.3%\n",
      "Positions of Responsibility\n",
      "LinkedIn Page Manager: Curated engaging and informative departmental posts and blogs. (2022-23)\n",
      "Team Lead: Led team to participate and secure second runner up in National Event Createch'2020 organized by (2020-21)\n",
      "Lnt company.\n",
      "Team Lead: Led a 12-student team in ideating, designing, and fabricating a hybrid tri-cycle for National Event (2018-19)\n",
      "Efficycle organized by SAE-NIS, eventually winning the 'Futuristic Efficycle Award'2018.\n",
      "Thesis\n",
      "Stage 1- Conducting market research, business hypothesis, product research, and financial modeling for an \"AI- (Aug'23-\n",
      "driven platform specializing in job-specific mock interviews and resume fitness scores.\" Ongoing)\n",
      "Skills\n",
      "Technical Skills: Python, SQL, Excel, Tableau, User Experience (UX) & Prototyping using Figma, Product Development\n",
      "Lifecycle Assesment, A/B Testing & Experimentation\n",
      "Managerial Skills: Market Research, Strategic thinking, Critical Analysis, Problem-solving and decision-making\n",
      "Relevant Courses\n",
      "Programming & Mathematical Courses: Video Content Analysis, Fraud Analytics Using Predictive and Social Network\n",
      "Techniques, Data Structures & Algorithms, Linear Algebra, Probability, Statistics, Calculus\n",
      "Entrepreneurship and Management Courses: Strategic Management, Operational Entrepreneurship, Finance and\n",
      "Accounting, Introduction to Marketing, Innovation Management, Ecoonomics for Technocrats, Game Theory for Startups,\n",
      "Marketing for New Ventures\n",
      "Projects\n",
      "Implemented a data-driven tool for financial news analysis, leveraging NLP embeddings and LLMs for (Jul'23-\n",
      "information retrieval and insights using Langchain Aug'23)\n",
      "Cricket Data Analytics Project Using Web Scraping, Python, Pandas and Power BI (Jun'23-Jul'23)\n",
      "Conducted Industrial and Environmental analysis for Indian Semiconductor Industry (Feb'23- March'23)\n",
      "Implemented circular trade detection, Trust Rank using Pregel Framework, spectral clustering, and cost- (Jan'23-\n",
      "sensitive logistic regression for a given dataset Apr'23)\n",
      "Conducted a Literature Review of \"Deep Reinforcement Learning for Solving AGV Routing Problem\" paper (Jan'23- April'23)\n",
      "Literature Review on Deepfakes and Generative Adversarial Networks: Focused on \"Neural Emotion Director: (Aug'22-\n",
      "Speech-preserving semantic control of facial expressions in 'in-the-wild' videos,\" published in CVPR'2022 Dec'22)\n",
      "Extracurricular\n",
      "Collaborated in a joint pitch event competition, LEAD PITCH, with Japanese students to develop a scalable business (2023)\n",
      "plan presentation for a technical concept.\n",
      "One of the finalist for ProdX'23, a product management case study organized by FCC, IITH (2023)\n",
      "Volunteered for THE FOOD CONCLAVE-2023' event hosted by the Government of Telangana (2023)\n",
      "Summer Internship\n",
      "Founder's Office Intern at Dao Studio: (Aug'23-\n",
      "Align technical vision with business objectives in a blockchain-based AI startup, translating high-level concepts Oct'23)\n",
      "into actionable engineering tasks and enhancing technical documentation.\n",
      "Shape AI strategy via market analysis, user requirement definition, and precise technical documentation for\n",
      "product development.\n",
      "Research Internship at IIT Hyderabad: Under the guidance of Dr. Nakul Parmeswar, (May'23-\n",
      "Explored Indian micromobility's challenges, opportunities, key players, and relevance in evolving mobility. Jul'23)\n",
      "Developed a comprehensive case study and instructional note for YULU startup, involving rigorous market\n",
      "research, precise data collection, and strategic formulation, currently in discussions with YULU for collaborative\n",
      "publication of the strategic case study.\n"
     ]
    }
   ],
   "source": [
    "for page in pages:\n",
    "         text += page.extract_text(x_tolerance=2)\n",
    "         print(text)"
   ]
  },
  {
   "cell_type": "code",
   "execution_count": 9,
   "metadata": {},
   "outputs": [
    {
     "data": {
      "text/plain": [
       "'shubhishrotriya09@gmail.comem22mtech14003@iith.ac.in\\nShubhi Shrotriya\\n9068998298\\nAcademic Details\\nYear Degree Institute CGPA/Marks(%)\\n2024 M.Tech Techno-Entrepreneurship IIT Hyderabad 9.04\\n2021 B.Tech Electronics & Communication Engineering ZHCET,AMU 8.21\\n2017 XII (AMU) SSSG,AMU 87.6%\\n2014 X (CBSE) OLF 89.3%\\nPositions of Responsibility\\nLinkedIn Page Manager: Curated engaging and informative departmental posts and blogs. (2022-23)\\nTeam Lead: Led team to participate and secure second runner up in National Event Createch\\'2020 organized by (2020-21)\\nLnt company.\\nTeam Lead: Led a 12-student team in ideating, designing, and fabricating a hybrid tri-cycle for National Event (2018-19)\\nEfficycle organized by SAE-NIS, eventually winning the \\'Futuristic Efficycle Award\\'2018.\\nThesis\\nStage 1- Conducting market research, business hypothesis, product research, and financial modeling for an \"AI- (Aug\\'23-\\ndriven platform specializing in job-specific mock interviews and resume fitness scores.\" Ongoing)\\nSkills\\nTechnical Skills: Python, SQL, Excel, Tableau, User Experience (UX) & Prototyping using Figma, Product Development\\nLifecycle Assesment, A/B Testing & Experimentation\\nManagerial Skills: Market Research, Strategic thinking, Critical Analysis, Problem-solving and decision-making\\nRelevant Courses\\nProgramming & Mathematical Courses: Video Content Analysis, Fraud Analytics Using Predictive and Social Network\\nTechniques, Data Structures & Algorithms, Linear Algebra, Probability, Statistics, Calculus\\nEntrepreneurship and Management Courses: Strategic Management, Operational Entrepreneurship, Finance and\\nAccounting, Introduction to Marketing, Innovation Management, Ecoonomics for Technocrats, Game Theory for Startups,\\nMarketing for New Ventures\\nProjects\\nImplemented a data-driven tool for financial news analysis, leveraging NLP embeddings and LLMs for (Jul\\'23-\\ninformation retrieval and insights using Langchain Aug\\'23)\\nCricket Data Analytics Project Using Web Scraping, Python, Pandas and Power BI (Jun\\'23-Jul\\'23)\\nConducted Industrial and Environmental analysis for Indian Semiconductor Industry (Feb\\'23- March\\'23)\\nImplemented circular trade detection, Trust Rank using Pregel Framework, spectral clustering, and cost- (Jan\\'23-\\nsensitive logistic regression for a given dataset Apr\\'23)\\nConducted a Literature Review of \"Deep Reinforcement Learning for Solving AGV Routing Problem\" paper (Jan\\'23- April\\'23)\\nLiterature Review on Deepfakes and Generative Adversarial Networks: Focused on \"Neural Emotion Director: (Aug\\'22-\\nSpeech-preserving semantic control of facial expressions in \\'in-the-wild\\' videos,\" published in CVPR\\'2022 Dec\\'22)\\nExtracurricular\\nCollaborated in a joint pitch event competition, LEAD PITCH, with Japanese students to develop a scalable business (2023)\\nplan presentation for a technical concept.\\nOne of the finalist for ProdX\\'23, a product management case study organized by FCC, IITH (2023)\\nVolunteered for THE FOOD CONCLAVE-2023\\' event hosted by the Government of Telangana (2023)\\nSummer Internship\\nFounder\\'s Office Intern at Dao Studio: (Aug\\'23-\\nAlign technical vision with business objectives in a blockchain-based AI startup, translating high-level concepts Oct\\'23)\\ninto actionable engineering tasks and enhancing technical documentation.\\nShape AI strategy via market analysis, user requirement definition, and precise technical documentation for\\nproduct development.\\nResearch Internship at IIT Hyderabad: Under the guidance of Dr. Nakul Parmeswar, (May\\'23-\\nExplored Indian micromobility\\'s challenges, opportunities, key players, and relevance in evolving mobility. Jul\\'23)\\nDeveloped a comprehensive case study and instructional note for YULU startup, involving rigorous market\\nresearch, precise data collection, and strategic formulation, currently in discussions with YULU for collaborative\\npublication of the strategic case study.shubhishrotriya09@gmail.comem22mtech14003@iith.ac.in\\nShubhi Shrotriya\\n9068998298\\nAcademic Details\\nYear Degree Institute CGPA/Marks(%)\\n2024 M.Tech Techno-Entrepreneurship IIT Hyderabad 9.04\\n2021 B.Tech Electronics & Communication Engineering ZHCET,AMU 8.21\\n2017 XII (AMU) SSSG,AMU 87.6%\\n2014 X (CBSE) OLF 89.3%\\nPositions of Responsibility\\nLinkedIn Page Manager: Curated engaging and informative departmental posts and blogs. (2022-23)\\nTeam Lead: Led team to participate and secure second runner up in National Event Createch\\'2020 organized by (2020-21)\\nLnt company.\\nTeam Lead: Led a 12-student team in ideating, designing, and fabricating a hybrid tri-cycle for National Event (2018-19)\\nEfficycle organized by SAE-NIS, eventually winning the \\'Futuristic Efficycle Award\\'2018.\\nThesis\\nStage 1- Conducting market research, business hypothesis, product research, and financial modeling for an \"AI- (Aug\\'23-\\ndriven platform specializing in job-specific mock interviews and resume fitness scores.\" Ongoing)\\nSkills\\nTechnical Skills: Python, SQL, Excel, Tableau, User Experience (UX) & Prototyping using Figma, Product Development\\nLifecycle Assesment, A/B Testing & Experimentation\\nManagerial Skills: Market Research, Strategic thinking, Critical Analysis, Problem-solving and decision-making\\nRelevant Courses\\nProgramming & Mathematical Courses: Video Content Analysis, Fraud Analytics Using Predictive and Social Network\\nTechniques, Data Structures & Algorithms, Linear Algebra, Probability, Statistics, Calculus\\nEntrepreneurship and Management Courses: Strategic Management, Operational Entrepreneurship, Finance and\\nAccounting, Introduction to Marketing, Innovation Management, Ecoonomics for Technocrats, Game Theory for Startups,\\nMarketing for New Ventures\\nProjects\\nImplemented a data-driven tool for financial news analysis, leveraging NLP embeddings and LLMs for (Jul\\'23-\\ninformation retrieval and insights using Langchain Aug\\'23)\\nCricket Data Analytics Project Using Web Scraping, Python, Pandas and Power BI (Jun\\'23-Jul\\'23)\\nConducted Industrial and Environmental analysis for Indian Semiconductor Industry (Feb\\'23- March\\'23)\\nImplemented circular trade detection, Trust Rank using Pregel Framework, spectral clustering, and cost- (Jan\\'23-\\nsensitive logistic regression for a given dataset Apr\\'23)\\nConducted a Literature Review of \"Deep Reinforcement Learning for Solving AGV Routing Problem\" paper (Jan\\'23- April\\'23)\\nLiterature Review on Deepfakes and Generative Adversarial Networks: Focused on \"Neural Emotion Director: (Aug\\'22-\\nSpeech-preserving semantic control of facial expressions in \\'in-the-wild\\' videos,\" published in CVPR\\'2022 Dec\\'22)\\nExtracurricular\\nCollaborated in a joint pitch event competition, LEAD PITCH, with Japanese students to develop a scalable business (2023)\\nplan presentation for a technical concept.\\nOne of the finalist for ProdX\\'23, a product management case study organized by FCC, IITH (2023)\\nVolunteered for THE FOOD CONCLAVE-2023\\' event hosted by the Government of Telangana (2023)\\nSummer Internship\\nFounder\\'s Office Intern at Dao Studio: (Aug\\'23-\\nAlign technical vision with business objectives in a blockchain-based AI startup, translating high-level concepts Oct\\'23)\\ninto actionable engineering tasks and enhancing technical documentation.\\nShape AI strategy via market analysis, user requirement definition, and precise technical documentation for\\nproduct development.\\nResearch Internship at IIT Hyderabad: Under the guidance of Dr. Nakul Parmeswar, (May\\'23-\\nExplored Indian micromobility\\'s challenges, opportunities, key players, and relevance in evolving mobility. Jul\\'23)\\nDeveloped a comprehensive case study and instructional note for YULU startup, involving rigorous market\\nresearch, precise data collection, and strategic formulation, currently in discussions with YULU for collaborative\\npublication of the strategic case study.'"
      ]
     },
     "execution_count": 9,
     "metadata": {},
     "output_type": "execute_result"
    }
   ],
   "source": [
    "text\n"
   ]
  },
  {
   "cell_type": "code",
   "execution_count": null,
   "metadata": {},
   "outputs": [],
   "source": []
  }
 ],
 "metadata": {
  "kernelspec": {
   "display_name": "tf-gpu",
   "language": "python",
   "name": "python3"
  },
  "language_info": {
   "codemirror_mode": {
    "name": "ipython",
    "version": 3
   },
   "file_extension": ".py",
   "mimetype": "text/x-python",
   "name": "python",
   "nbconvert_exporter": "python",
   "pygments_lexer": "ipython3",
   "version": "3.8.19"
  },
  "orig_nbformat": 4,
  "vscode": {
   "interpreter": {
    "hash": "d86ab636b363cb32d3f7578512f6396b4a169d210dbf8b4d547e88bd9fd74388"
   }
  }
 },
 "nbformat": 4,
 "nbformat_minor": 2
}
